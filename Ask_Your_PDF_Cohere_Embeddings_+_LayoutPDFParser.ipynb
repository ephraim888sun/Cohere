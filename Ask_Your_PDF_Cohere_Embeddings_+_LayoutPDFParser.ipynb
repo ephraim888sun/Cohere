{
  "nbformat": 4,
  "nbformat_minor": 0,
  "metadata": {
    "colab": {
      "provenance": []
    },
    "kernelspec": {
      "name": "python3",
      "display_name": "Python 3"
    },
    "language_info": {
      "name": "python"
    }
  },
  "cells": [
    {
      "cell_type": "markdown",
      "source": [
        "Good embeddings need good contexts to embed. Here's an example of how to combine smart contexts from llmsherpa.LayoutPDFParser with the new Cohere embeddings."
      ],
      "metadata": {
        "id": "AJEGTRzxhdP6"
      }
    },
    {
      "cell_type": "markdown",
      "source": [
        "First install cohere and it's dependencies"
      ],
      "metadata": {
        "id": "SQkm8Hgwhym0"
      }
    },
    {
      "cell_type": "code",
      "source": [
        "!pip install tiktoken\n",
        "!pip install openai\n",
        "!pip install -U cohere"
      ],
      "metadata": {
        "id": "D5LhYAk2hryu"
      },
      "execution_count": null,
      "outputs": []
    },
    {
      "cell_type": "markdown",
      "source": [
        "Now instll the llmsherpa library to get LayoutPDFParser."
      ],
      "metadata": {
        "id": "vUwrz9cx6xEj"
      }
    },
    {
      "cell_type": "code",
      "source": [
        "!pip install llmsherpa"
      ],
      "metadata": {
        "colab": {
          "base_uri": "https://localhost:8080/"
        },
        "id": "WX6yHPP0i2X_",
        "outputId": "3301255e-89c8-435e-d85c-e352743a2c7e"
      },
      "execution_count": null,
      "outputs": [
        {
          "output_type": "stream",
          "name": "stdout",
          "text": [
            "Collecting llmsherpa\n",
            "  Downloading llmsherpa-0.1.3-py3-none-any.whl (12 kB)\n",
            "Requirement already satisfied: urllib3 in /usr/local/lib/python3.10/dist-packages (from llmsherpa) (2.0.7)\n",
            "Installing collected packages: llmsherpa\n",
            "Successfully installed llmsherpa-0.1.3\n"
          ]
        }
      ]
    },
    {
      "cell_type": "code",
      "source": [
        "from llmsherpa.readers import LayoutPDFReader\n",
        "\n",
        "llmsherpa_api_url = \"https://readers.llmsherpa.com/api/document/developer/parseDocument?renderFormat=all\"\n",
        "pdf_url = \"https://www.shinzen.org/wp-content/uploads/2016/08/WhatIsMindfulness_SY_Public_ver1.5.pdf\" # also allowed is a file path e.g. /home/downloads/xyz.pdf\n",
        "pdf_reader = LayoutPDFReader(llmsherpa_api_url)\n",
        "doc = pdf_reader.read_pdf(pdf_url)\n"
      ],
      "metadata": {
        "id": "04Aiy1iAi77I"
      },
      "execution_count": null,
      "outputs": []
    },
    {
      "cell_type": "markdown",
      "source": [
        "Now go through the smart chunks returned from the PDF and embed the chunk texts with Cohere."
      ],
      "metadata": {
        "id": "98oCyOZB7I9r"
      }
    },
    {
      "cell_type": "code",
      "source": [
        "import cohere\n",
        "import numpy as np\n",
        "cohere_key = \"{use cohere key here}\"\n",
        "co = cohere.Client(cohere_key)\n",
        "\n",
        "contexts = []\n",
        "for chunk in doc.chunks():\n",
        "  contexts.append(chunk.to_context_text())\n",
        "\n",
        "#Encode your documents with input type 'search_document'\n",
        "doc_emb = co.embed(contexts, input_type=\"search_document\", model=\"embed-english-v3.0\").embeddings\n",
        "doc_emb = np.asarray(doc_emb)\n"
      ],
      "metadata": {
        "id": "9-PY7dk-kDLf"
      },
      "execution_count": null,
      "outputs": []
    },
    {
      "cell_type": "markdown",
      "source": [
        "Now we use cohere question embeddings to embed the queries, search relevant contexts and use OpenAI to summarize the related contexts conditioned on your question!"
      ],
      "metadata": {
        "id": "cC0BaTuE7dJI"
      }
    },
    {
      "cell_type": "code",
      "source": [
        "import openai\n",
        "from IPython.core.display import display, HTML\n",
        "openai.api_key = \"{use open ai key here}\"\n",
        "\n",
        "def ask(query):\n",
        "  #Encode your query with input type 'search_query'\n",
        "  query_emb = co.embed([query], input_type=\"search_query\", model=\"embed-english-v3.0\").embeddings\n",
        "  query_emb = np.asarray(query_emb)\n",
        "  query_emb.shape\n",
        "\n",
        "  #Compute the dot product between query embedding and document embedding\n",
        "  scores = np.dot(query_emb, doc_emb.T)[0]\n",
        "\n",
        "  #Find the highest scores\n",
        "  max_idx = np.argsort(-scores)\n",
        "  most_relevant_contexts = []\n",
        "  top_k = 10\n",
        "\n",
        "  #Get only the top contexts to keep the context for openai small\n",
        "  for idx in max_idx[0:top_k]:\n",
        "    most_relevant_contexts.append(contexts[idx])\n",
        "\n",
        "  #Call OpenAI to synthesize answers\n",
        "  passages = \"\\n\".join(most_relevant_contexts)\n",
        "  prompt = f\"Read the following passages and answer the question: {query}\\n passages: {passages}\"\n",
        "  completion = openai.ChatCompletion.create(model=\"gpt-3.5-turbo\", messages=[{\"role\": \"user\", \"content\": prompt}])\n",
        "  synthesized_answer = completion.choices[0].message.content\n",
        "\n",
        "  print(f\"Query: {query}\")\n",
        "  print(f\"Answer: {synthesized_answer}\")\n",
        "  print(\"\\nRelevant contexts: \\n\")\n",
        "  for ctx in most_relevant_contexts:\n",
        "      print(ctx)\n",
        "      print(\"--------\")\n",
        "\n",
        "ask(\"what do i need to practice mindfulness\")\n"
      ],
      "metadata": {
        "colab": {
          "base_uri": "https://localhost:8080/"
        },
        "id": "HiQcQ_GXkpwC",
        "outputId": "b65dbb57-1cad-44aa-cfe8-a48a6b736a5c"
      },
      "execution_count": null,
      "outputs": [
        {
          "output_type": "stream",
          "name": "stdout",
          "text": [
            "Query: what do i need to practice mindfulness\n",
            "Answer: To practice mindfulness, you need to acquire and apply concentration, clarity, and equanimity skills. Mindfulness can refer to a form of awareness, the practices that elevate that awareness, and the application of that awareness for specific goals. Mindfulness practice often includes training in positive affect, such as loving kindness. It is important to understand that mindfulness is not just being aware in a general sense, but rather a fine-grained and systematic practice. Mindfulness skills can be learned independent of one's beliefs or worldview, but they may impact how one views things. It is also important to recognize that there may be specific learning required for different sensory experiences, and that carryover of skills may not always be immediate or universal.\n",
            "\n",
            "Relevant contexts: \n",
            "\n",
            "I. SOME USEFUL DISTINCTIONS > Mindfulness – The Practices\n",
            "Mindfulness can also refer to the systematic exercises that elevate a person’s base level of mindful awareness.\n",
            "Once again, in careful usage we should refer to these as mindfulness practices or, more fully, mindful awareness practices (MAPs).\n",
            "--------\n",
            "I. SOME USEFUL DISTINCTIONS > Mindfulness – The Shadow > Mindfulness – The Possible Revolution > Summing It Up\n",
            "The word mindfulness without further qualification can refer to any one or a combination of three things: a form of awareness, the practices that elevate that form of awareness, and the application of that awareness for specific perceptual and behavioral goals.\n",
            "When we wish to speak with precision, we can use phrases such as mindful awareness, mindful awareness practices, and mindfulness applications (i.e., the path).\n",
            "But often it’s simpler to just say mindfulness and let the context indicate the intended meaning(s).\n",
            "We will be doing that frequently in this article.\n",
            "--------\n",
            "I. SOME USEFUL DISTINCTIONS > Mindfulness – The Translation\n",
            "I and some other teachers (most notably Jon Kabat-Zinn) would prefer to not require that mindfulness directly correspond to any specific Asian term.\n",
            "For me, mindfulness designates any growth process based on acquiring and applying concentration, clarity, and equanimity skills and capable of providing industrial strength effects.\n",
            "--------\n",
            "I. SOME USEFUL DISTINCTIONS > Mindfulness – The Path\n",
            "In Southeast Asia, ethics and good character (sīla) are often looked upon as a necessary precursor to mindfulness practice.\n",
            "On the other hand, training in positive affect (loving kindness, etc.) is often looked upon as a desirable add on to mindfulness practice.\n",
            "--------\n",
            "VI. SOME UNWARRANTED ASSUMPTIONS > 2. Mindfulness = Just Being Aware\n",
            "Relative to many other practices, mindfulness emphasizes clear awareness of present experience.\n",
            "It is therefore tempting to simplistically equate being more mindful with being more aware in a general sort of way.\n",
            "--------\n",
            "VI. SOME UNWARRANTED ASSUMPTIONS\n",
            "Many forms of meditation require a narrow focus range.\n",
            "One concentrates on the breath, or a mantra, or a visualization, and so forth.\n",
            "A convenient (and perhaps unique) feature of mindfulness is that one can be mindful of “whatever comes up” i.e., it’s not necessary to partition sensory experience into focus objects on one hand and distractions on the other.\n",
            "--------\n",
            "VI. SOME UNWARRANTED ASSUMPTIONS > 2. Mindfulness = Just Being Aware\n",
            "Unless you master and apply the technique yourself, you won't be able to understand its subtleties and you won't be able to project deep confidence in its efficacy.\n",
            "--------\n",
            "VI. SOME UNWARRANTED ASSUMPTIONS > 2. Mindfulness = Just Being Aware\n",
            "First, mindful awareness is fine-grained and systematic.\n",
            "Second, equanimity (or something similar such as “detachment” or “non-grasping”) has been an explicit part of every historical mindfulness system.\n",
            "Third, concentration is an integral feature in both major forms of Southeast Asian mindfulness.\n",
            "Momentary high concentration is emphasized in Noting and systematically focusing on specific body regions is the defining feature of Body Scanning.\n",
            "--------\n",
            "IV. DOES THE DEFINITION WORK? > Historical? > Modern History\n",
            "In this article, I frequently make the claim that acquisition of mindfulness skills belongs to a dimension independent of one’s philosophy, beliefs, worldview, and such.\n",
            "It is for that reason that devout Christians or Jews can feel comfortable studying with Buddhist teachers.\n",
            "On the other hand, one must be honest about two points.\n",
            "A. The traditions within which MAPs developed all make quite well-defined (and occasionally opposing) philosophical claims.\n",
            "B. Application of mindfulness skills at an industrial strength level could change how one views things.\n",
            "--------\n",
            "VI. SOME UNWARRANTED ASSUMPTIONS > 2. Mindfulness = Just Being Aware\n",
            "The implication here is that if you learn to maintain focus on x (say, your breath), then that skill will immediately carryover to an ability to maintain focus on y (say, external sound) or z (say, mental images).\n",
            "There’s no doubt some carry over but there may also be some learning that is specific to each class of sensory experience.\n",
            "Similar considerations hold for the clarity skill and the equanimity skill.\n",
            "--------\n"
          ]
        }
      ]
    }
  ]
}