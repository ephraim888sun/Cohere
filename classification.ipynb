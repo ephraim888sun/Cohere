{
 "cells": [
  {
   "cell_type": "code",
   "execution_count": 8,
   "metadata": {},
   "outputs": [],
   "source": [
    "import cohere\n",
    "\n",
    "\n",
    "from os import environ\n",
    "\n",
    "cohere_api_key = environ.get('COHERE_API_KEY')\n",
    "\n",
    "co = cohere.Client(cohere_api_key)\n"
   ]
  },
  {
   "cell_type": "code",
   "execution_count": 10,
   "metadata": {},
   "outputs": [],
   "source": [
    "from cohere import ClassifyExample\n",
    "\n",
    "examples = [\n",
    "    ClassifyExample(text=\"Dermatologists don't like her!\", label=\"Spam\"),\n",
    "    ClassifyExample(text=\"'Hello, open to this?'\", label=\"Spam\"),\n",
    "    ClassifyExample(text=\"I need help please wire me $1000 right now\", label=\"Spam\"),\n",
    "    ClassifyExample(text=\"Nice to know you ;)\", label=\"Spam\"),\n",
    "    ClassifyExample(text=\"Please help me?\", label=\"Spam\"),\n",
    "    ClassifyExample(text=\"Your parcel will be delivered today\", label=\"Not spam\"),\n",
    "    ClassifyExample(\n",
    "        text=\"Review changes to our Terms and Conditions\", label=\"Not spam\"\n",
    "    ),\n",
    "    ClassifyExample(text=\"Weekly sync notes\", label=\"Not spam\"),\n",
    "    ClassifyExample(text=\"'Re: Follow up from today's meeting'\", label=\"Not spam\"),\n",
    "    ClassifyExample(text=\"Pre-read for tomorrow\", label=\"Not spam\"),\n",
    "]"
   ]
  },
  {
   "cell_type": "code",
   "execution_count": 11,
   "metadata": {},
   "outputs": [],
   "source": [
    "inputs = [\n",
    "    \"Confirm your email address\",\n",
    "    \"hey i need u to send some $\",\n",
    "]\n",
    "response = co.classify(\n",
    "    inputs=inputs,\n",
    "    examples=examples,\n",
    ")"
   ]
  },
  {
   "cell_type": "code",
   "execution_count": 13,
   "metadata": {},
   "outputs": [
    {
     "ename": "NameError",
     "evalue": "name 'JSON' is not defined",
     "output_type": "error",
     "traceback": [
      "\u001b[0;31m---------------------------------------------------------------------------\u001b[0m",
      "\u001b[0;31mNameError\u001b[0m                                 Traceback (most recent call last)",
      "Cell \u001b[0;32mIn[13], line 1\u001b[0m\n\u001b[0;32m----> 1\u001b[0m \u001b[38;5;28mprint\u001b[39m(\u001b[43mJSON\u001b[49m\u001b[38;5;241m.\u001b[39mstringify(response))\n",
      "\u001b[0;31mNameError\u001b[0m: name 'JSON' is not defined"
     ]
    }
   ],
   "source": [
    "print(response)\n"
   ]
  }
 ],
 "metadata": {
  "kernelspec": {
   "display_name": ".venv",
   "language": "python",
   "name": "python3"
  },
  "language_info": {
   "codemirror_mode": {
    "name": "ipython",
    "version": 3
   },
   "file_extension": ".py",
   "mimetype": "text/x-python",
   "name": "python",
   "nbconvert_exporter": "python",
   "pygments_lexer": "ipython3",
   "version": "3.12.2"
  }
 },
 "nbformat": 4,
 "nbformat_minor": 2
}
