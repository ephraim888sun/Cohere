{
 "cells": [
  {
   "cell_type": "code",
   "execution_count": 1,
   "metadata": {},
   "outputs": [],
   "source": [
    "import cohere\n",
    "\n",
    "\n",
    "from os import environ\n",
    "\n",
    "cohere_api_key = environ.get('COHERE_API_KEY')\n",
    "\n",
    "co = cohere.Client(cohere_api_key)\n"
   ]
  },
  {
   "cell_type": "code",
   "execution_count": 2,
   "metadata": {},
   "outputs": [],
   "source": [
    "from cohere import ClassifyExample\n",
    "\n",
    "examples = [\n",
    "    ClassifyExample(text=\"Dermatologists don't like her!\", label=\"Spam\"),\n",
    "    ClassifyExample(text=\"'Hello, open to this?'\", label=\"Spam\"),\n",
    "    ClassifyExample(text=\"I need help please wire me $1000 right now\", label=\"Spam\"),\n",
    "    ClassifyExample(text=\"Nice to know you ;)\", label=\"Spam\"),\n",
    "    ClassifyExample(text=\"Please help me?\", label=\"Spam\"),\n",
    "    ClassifyExample(text=\"Your parcel will be delivered today\", label=\"Not spam\"),\n",
    "    ClassifyExample(\n",
    "        text=\"Review changes to our Terms and Conditions\", label=\"Not spam\"\n",
    "    ),\n",
    "    ClassifyExample(text=\"Weekly sync notes\", label=\"Not spam\"),\n",
    "    ClassifyExample(text=\"'Re: Follow up from today's meeting'\", label=\"Not spam\"),\n",
    "    ClassifyExample(text=\"Pre-read for tomorrow\", label=\"Not spam\"),\n",
    "]"
   ]
  },
  {
   "cell_type": "code",
   "execution_count": 3,
   "metadata": {},
   "outputs": [],
   "source": [
    "inputs = [\n",
    "    \"Confirm your email address\",\n",
    "    \"hey i need u to send some $\",\n",
    "]\n",
    "response = co.classify(\n",
    "    inputs=inputs,\n",
    "    examples=examples,\n",
    ")"
   ]
  },
  {
   "cell_type": "code",
   "execution_count": 4,
   "metadata": {},
   "outputs": [
    {
     "name": "stdout",
     "output_type": "stream",
     "text": [
      "id='cd20513b-dbfb-4925-9404-06a1661d45b1' classifications=[ClassifyResponseClassificationsItem(id='53b9f514-fff9-4420-a88a-c53d4c33d760', input='Confirm your email address', prediction='Not spam', predictions=['Not spam'], confidence=0.5661598, confidences=[0.5661598], labels={'Not spam': ClassifyResponseClassificationsItemLabelsValue(confidence=0.5661598), 'Spam': ClassifyResponseClassificationsItemLabelsValue(confidence=0.43384025)}, classification_type='single-label'), ClassifyResponseClassificationsItem(id='6360e75d-1061-4a56-9c6b-9783ad39b3d3', input='hey i need u to send some $', prediction='Spam', predictions=['Spam'], confidence=0.9909811, confidences=[0.9909811], labels={'Not spam': ClassifyResponseClassificationsItemLabelsValue(confidence=0.009018883), 'Spam': ClassifyResponseClassificationsItemLabelsValue(confidence=0.9909811)}, classification_type='single-label')] meta=ApiMeta(api_version=ApiMetaApiVersion(version='1', is_deprecated=None, is_experimental=None), billed_units=ApiMetaBilledUnits(input_tokens=None, output_tokens=None, search_units=None, classifications=2), tokens=None, warnings=None)\n"
     ]
    }
   ],
   "source": [
    "print(response)\n"
   ]
  }
 ],
 "metadata": {
  "kernelspec": {
   "display_name": ".venv",
   "language": "python",
   "name": "python3"
  },
  "language_info": {
   "codemirror_mode": {
    "name": "ipython",
    "version": 3
   },
   "file_extension": ".py",
   "mimetype": "text/x-python",
   "name": "python",
   "nbconvert_exporter": "python",
   "pygments_lexer": "ipython3",
   "version": "3.12.2"
  }
 },
 "nbformat": 4,
 "nbformat_minor": 2
}
